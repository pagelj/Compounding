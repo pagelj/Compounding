{
 "cells": [
  {
   "cell_type": "markdown",
   "metadata": {},
   "source": [
    "# Ridge Regression on ContextAware and DecadeAgnostic system"
   ]
  },
  {
   "cell_type": "code",
   "execution_count": 3,
   "metadata": {},
   "outputs": [],
   "source": [
    "library(tidyverse)\n",
    "library(caret)\n",
    "library(glmnet)\n",
    "library(dplyr)\n",
    "#library(psych) \n",
    "set.seed(1991)"
   ]
  },
  {
   "cell_type": "code",
   "execution_count": 4,
   "metadata": {},
   "outputs": [],
   "source": [
    "CompoundAware_DecadeAgnostic<-read.csv('CompoundAware_DecadeAgnostic.csv',sep = '\\t')"
   ]
  },
  {
   "cell_type": "code",
   "execution_count": 6,
   "metadata": {},
   "outputs": [],
   "source": [
    "Y <- CompoundAware_DecadeAgnostic %>% select(compound_mean) %>% scale(center = TRUE, scale = FALSE) %>% as.double()\n",
    "X <- CompoundAware_DecadeAgnostic %>% select(-c(1:8)) %>% as.matrix()"
   ]
  },
  {
   "cell_type": "code",
   "execution_count": 7,
   "metadata": {},
   "outputs": [
    {
     "data": {
      "text/plain": [
       " sim_bw_constituents sim_with_head     sim_with_modifier     log_ratio        \n",
       " Min.   :1.820e-06   Min.   :0.00127   Min.   :0.0008125   Min.   :3.200e-07  \n",
       " 1st Qu.:2.233e-02   1st Qu.:0.09423   1st Qu.:0.0830981   1st Qu.:3.661e-05  \n",
       " Median :5.232e-02   Median :0.17094   Median :0.1957016   Median :1.589e-04  \n",
       " Mean   :6.281e-02   Mean   :0.20121   Mean   :0.1977876   Mean   :3.019e-03  \n",
       " 3rd Qu.:9.444e-02   3rd Qu.:0.26726   3rd Qu.:0.2876941   3rd Qu.:1.840e-03  \n",
       " Max.   :2.239e-01   Max.   :0.97795   Max.   :0.5513227   Max.   :6.054e-02  \n",
       "      ppmi            local_mi        \n",
       " Min.   :0.06062   Min.   :0.0006622  \n",
       " 1st Qu.:0.23213   1st Qu.:0.0007116  \n",
       " Median :0.31666   Median :0.0008885  \n",
       " Mean   :0.30903   Mean   :0.0044666  \n",
       " 3rd Qu.:0.36827   3rd Qu.:0.0031943  \n",
       " Max.   :0.57821   Max.   :0.0768860  "
      ]
     },
     "metadata": {},
     "output_type": "display_data"
    }
   ],
   "source": [
    "summary(X)"
   ]
  },
  {
   "cell_type": "code",
   "execution_count": 12,
   "metadata": {},
   "outputs": [
    {
     "name": "stderr",
     "output_type": "stream",
     "text": [
      "Warning message in nominalTrainWorkflow(x = x, y = y, wts = weights, info = trainInfo, :\n",
      "\"There were missing values in resampled performance measures.\""
     ]
    }
   ],
   "source": [
    "ridge <- train(\n",
    "  compound_mean ~. -modifier -head -modifier_mean -modifier_std -head_mean -head_std -compound_std, \n",
    "    data = CompoundAware_DecadeAgnostic, method = \"glmnet\",\n",
    "  trControl = trainControl(\"cv\", number = 10),\n",
    "  tuneGrid = expand.grid(alpha = 0, lambda = lambda)\n",
    "  )\n",
    "# Model coefficients\n",
    "#coef(ridge$finalModel, ridge$bestTune$lambda)\n",
    "# Make predictions\n",
    "#predictions <- ridge %>% predict(test.data)\n",
    "# Model prediction performance\n",
    "#data.frame(\n",
    "#  RMSE = RMSE(predictions, test.data$medv),\n",
    "#  Rsquare = R2(predictions, test.data$medv)\n",
    "#)"
   ]
  },
  {
   "cell_type": "code",
   "execution_count": 16,
   "metadata": {},
   "outputs": [
    {
     "data": {
      "text/html": [
       "<table>\n",
       "<thead><tr><th scope=col>TrainRMSE</th><th scope=col>TrainRsquared</th><th scope=col>TrainMAE</th><th scope=col>method</th></tr></thead>\n",
       "<tbody>\n",
       "\t<tr><td>1.275796 </td><td>0.3974656</td><td>1.082903 </td><td>glmnet   </td></tr>\n",
       "</tbody>\n",
       "</table>\n"
      ],
      "text/latex": [
       "\\begin{tabular}{r|llll}\n",
       " TrainRMSE & TrainRsquared & TrainMAE & method\\\\\n",
       "\\hline\n",
       "\t 1.275796  & 0.3974656 & 1.082903  & glmnet   \\\\\n",
       "\\end{tabular}\n"
      ],
      "text/markdown": [
       "\n",
       "TrainRMSE | TrainRsquared | TrainMAE | method | \n",
       "|---|\n",
       "| 1.275796  | 0.3974656 | 1.082903  | glmnet    | \n",
       "\n",
       "\n"
      ],
      "text/plain": [
       "  TrainRMSE TrainRsquared TrainMAE method\n",
       "1 1.275796  0.3974656     1.082903 glmnet"
      ]
     },
     "metadata": {},
     "output_type": "display_data"
    }
   ],
   "source": [
    "getTrainPerf(ridge)"
   ]
  },
  {
   "cell_type": "code",
   "execution_count": 15,
   "metadata": {},
   "outputs": [
    {
     "data": {
      "text/plain": [
       "glmnet variable importance\n",
       "\n",
       "                    Overall\n",
       "log_ratio           100.000\n",
       "local_mi             82.006\n",
       "sim_bw_constituents  44.823\n",
       "ppmi                  9.684\n",
       "sim_with_head         7.883\n",
       "sim_with_modifier     0.000"
      ]
     },
     "metadata": {},
     "output_type": "display_data"
    }
   ],
   "source": [
    "varImp(ridge)"
   ]
  },
  {
   "cell_type": "markdown",
   "metadata": {},
   "source": [
    "According to the variable importance study, we see that log ratio and local mutual information are the best two predictors for compositionality ratings, while the similarity ratings are at the bottom 2. Infact the similarity with the modifier plays no role in the prediction."
   ]
  },
  {
   "cell_type": "code",
   "execution_count": 14,
   "metadata": {},
   "outputs": [
    {
     "data": {},
     "metadata": {},
     "output_type": "display_data"
    },
    {
     "data": {
      "image/png": "[encoded data removed]",
      "text/plain": [
       "plot without title"
      ]
     },
     "metadata": {},
     "output_type": "display_data",
     "source": "R display func"
    }
   ],
   "source": [
    "plot(varImp(ridge))"
   ]
  }
 ],
 "metadata": {
  "kernelspec": {
   "display_name": "Python 3",
   "language": "python",
   "name": "python3"
  },
  "language_info": {
   "codemirror_mode": {
    "name": "ipython",
    "version": 3
   },
   "file_extension": ".py",
   "mimetype": "text/x-python",
   "name": "python",
   "nbconvert_exporter": "python",
   "pygments_lexer": "ipython3",
   "version": "3.7.4"
  }
 },
 "nbformat": 4,
 "nbformat_minor": 4
}
