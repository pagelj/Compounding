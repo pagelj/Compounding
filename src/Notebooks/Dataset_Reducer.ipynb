{
 "cells": [
  {
   "cell_type": "code",
   "execution_count": 1,
   "metadata": {},
   "outputs": [],
   "source": [
    "import pandas as pd\n",
    "import pickle as pkl\n",
    "import glob"
   ]
  },
  {
   "cell_type": "code",
   "execution_count": 32,
   "metadata": {},
   "outputs": [
    {
     "data": {
      "text/plain": [
       "'words_0.csv'"
      ]
     },
     "execution_count": 32,
     "metadata": {},
     "output_type": "execute_result"
    }
   ],
   "source": [
    "strrr='/data/dharp/compounding/datasets/entire_df_0.h5'\n"
   ]
  },
  {
   "cell_type": "markdown",
   "metadata": {},
   "source": [
    "## Reducing Heads"
   ]
  },
  {
   "cell_type": "code",
   "execution_count": 2,
   "metadata": {},
   "outputs": [],
   "source": [
    "heads=pd.read_pickle('/data/dharp/compounding/datasets/heads.pkl')\n"
   ]
  },
  {
   "cell_type": "code",
   "execution_count": 3,
   "metadata": {},
   "outputs": [
    {
     "name": "stdout",
     "output_type": "stream",
     "text": [
      "<class 'pandas.core.frame.DataFrame'>\n",
      "RangeIndex: 379409902 entries, 0 to 379409901\n",
      "Data columns (total 4 columns):\n",
      "head       object\n",
      "context    object\n",
      "year       int64\n",
      "count      int64\n",
      "dtypes: int64(2), object(2)\n",
      "memory usage: 11.3+ GB\n"
     ]
    },
    {
     "data": {
      "text/html": [
       "<div>\n",
       "<style scoped>\n",
       "    .dataframe tbody tr th:only-of-type {\n",
       "        vertical-align: middle;\n",
       "    }\n",
       "\n",
       "    .dataframe tbody tr th {\n",
       "        vertical-align: top;\n",
       "    }\n",
       "\n",
       "    .dataframe thead th {\n",
       "        text-align: right;\n",
       "    }\n",
       "</style>\n",
       "<table border=\"1\" class=\"dataframe\">\n",
       "  <thead>\n",
       "    <tr style=\"text-align: right;\">\n",
       "      <th></th>\n",
       "      <th>head</th>\n",
       "      <th>context</th>\n",
       "      <th>year</th>\n",
       "      <th>count</th>\n",
       "    </tr>\n",
       "  </thead>\n",
       "  <tbody>\n",
       "    <tr>\n",
       "      <th>0</th>\n",
       "      <td>a_noun</td>\n",
       "      <td>abstract_adj</td>\n",
       "      <td>1909</td>\n",
       "      <td>7</td>\n",
       "    </tr>\n",
       "    <tr>\n",
       "      <th>1</th>\n",
       "      <td>a_noun</td>\n",
       "      <td>abstract_adj</td>\n",
       "      <td>1912</td>\n",
       "      <td>8</td>\n",
       "    </tr>\n",
       "    <tr>\n",
       "      <th>2</th>\n",
       "      <td>a_noun</td>\n",
       "      <td>abstract_adj</td>\n",
       "      <td>1922</td>\n",
       "      <td>2</td>\n",
       "    </tr>\n",
       "    <tr>\n",
       "      <th>3</th>\n",
       "      <td>a_noun</td>\n",
       "      <td>abstract_adj</td>\n",
       "      <td>1928</td>\n",
       "      <td>1</td>\n",
       "    </tr>\n",
       "    <tr>\n",
       "      <th>4</th>\n",
       "      <td>a_noun</td>\n",
       "      <td>abstract_adj</td>\n",
       "      <td>1932</td>\n",
       "      <td>1</td>\n",
       "    </tr>\n",
       "  </tbody>\n",
       "</table>\n",
       "</div>"
      ],
      "text/plain": [
       "     head       context  year  count\n",
       "0  a_noun  abstract_adj  1909      7\n",
       "1  a_noun  abstract_adj  1912      8\n",
       "2  a_noun  abstract_adj  1922      2\n",
       "3  a_noun  abstract_adj  1928      1\n",
       "4  a_noun  abstract_adj  1932      1"
      ]
     },
     "execution_count": 3,
     "metadata": {},
     "output_type": "execute_result"
    }
   ],
   "source": [
    "heads_reduced=pd.read_csv('/data/dharp/compounding/datasets/heads_reduced.csv',sep='\\t')\n",
    "heads.info()\n",
    "heads.head()"
   ]
  },
  {
   "cell_type": "code",
   "execution_count": 3,
   "metadata": {},
   "outputs": [
    {
     "name": "stdout",
     "output_type": "stream",
     "text": [
      "<class 'pandas.core.frame.DataFrame'>\n",
      "MultiIndex: 197240335 entries, (a_noun, '_noun, 1860) to (zywicki_noun, world_noun, 1993)\n",
      "Data columns (total 1 columns):\n",
      "count    float64\n",
      "dtypes: float64(1)\n",
      "memory usage: 3.3+ GB\n"
     ]
    },
    {
     "data": {
      "text/html": [
       "<div>\n",
       "<style scoped>\n",
       "    .dataframe tbody tr th:only-of-type {\n",
       "        vertical-align: middle;\n",
       "    }\n",
       "\n",
       "    .dataframe tbody tr th {\n",
       "        vertical-align: top;\n",
       "    }\n",
       "\n",
       "    .dataframe thead th {\n",
       "        text-align: right;\n",
       "    }\n",
       "</style>\n",
       "<table border=\"1\" class=\"dataframe\">\n",
       "  <thead>\n",
       "    <tr style=\"text-align: right;\">\n",
       "      <th></th>\n",
       "      <th></th>\n",
       "      <th></th>\n",
       "      <th>count</th>\n",
       "    </tr>\n",
       "    <tr>\n",
       "      <th>head</th>\n",
       "      <th>context</th>\n",
       "      <th>year</th>\n",
       "      <th></th>\n",
       "    </tr>\n",
       "  </thead>\n",
       "  <tbody>\n",
       "    <tr>\n",
       "      <th rowspan=\"5\" valign=\"top\">a_noun</th>\n",
       "      <th rowspan=\"5\" valign=\"top\">'_noun</th>\n",
       "      <th>1860</th>\n",
       "      <td>2.0</td>\n",
       "    </tr>\n",
       "    <tr>\n",
       "      <th>1873</th>\n",
       "      <td>4.0</td>\n",
       "    </tr>\n",
       "    <tr>\n",
       "      <th>1882</th>\n",
       "      <td>1.0</td>\n",
       "    </tr>\n",
       "    <tr>\n",
       "      <th>1889</th>\n",
       "      <td>2.0</td>\n",
       "    </tr>\n",
       "    <tr>\n",
       "      <th>1894</th>\n",
       "      <td>7.0</td>\n",
       "    </tr>\n",
       "  </tbody>\n",
       "</table>\n",
       "</div>"
      ],
      "text/plain": [
       "                     count\n",
       "head   context year       \n",
       "a_noun '_noun  1860    2.0\n",
       "               1873    4.0\n",
       "               1882    1.0\n",
       "               1889    2.0\n",
       "               1894    7.0"
      ]
     },
     "execution_count": 3,
     "metadata": {},
     "output_type": "execute_result"
    }
   ],
   "source": [
    "heads.info()\n",
    "heads.head()"
   ]
  },
  {
   "cell_type": "code",
   "execution_count": 8,
   "metadata": {},
   "outputs": [],
   "source": [
    "head_list=list(set(heads.index.get_level_values(0).tolist()))"
   ]
  },
  {
   "cell_type": "code",
   "execution_count": 9,
   "metadata": {},
   "outputs": [
    {
     "data": {
      "text/plain": [
       "108590"
      ]
     },
     "execution_count": 9,
     "metadata": {},
     "output_type": "execute_result"
    }
   ],
   "source": [
    "len(head_list)"
   ]
  },
  {
   "cell_type": "code",
   "execution_count": 5,
   "metadata": {},
   "outputs": [
    {
     "name": "stdout",
     "output_type": "stream",
     "text": [
      "<class 'pandas.core.frame.DataFrame'>\n",
      "RangeIndex: 476816626 entries, 0 to 476816625\n",
      "Data columns (total 4 columns):\n",
      "head       object\n",
      "context    object\n",
      "year       int64\n",
      "count      float64\n",
      "dtypes: float64(1), int64(1), object(2)\n",
      "memory usage: 14.2+ GB\n"
     ]
    },
    {
     "data": {
      "text/html": [
       "<div>\n",
       "<style scoped>\n",
       "    .dataframe tbody tr th:only-of-type {\n",
       "        vertical-align: middle;\n",
       "    }\n",
       "\n",
       "    .dataframe tbody tr th {\n",
       "        vertical-align: top;\n",
       "    }\n",
       "\n",
       "    .dataframe thead th {\n",
       "        text-align: right;\n",
       "    }\n",
       "</style>\n",
       "<table border=\"1\" class=\"dataframe\">\n",
       "  <thead>\n",
       "    <tr style=\"text-align: right;\">\n",
       "      <th></th>\n",
       "      <th>head</th>\n",
       "      <th>context</th>\n",
       "      <th>year</th>\n",
       "      <th>count</th>\n",
       "    </tr>\n",
       "  </thead>\n",
       "  <tbody>\n",
       "    <tr>\n",
       "      <th>0</th>\n",
       "      <td>a_noun</td>\n",
       "      <td>abstract_adj</td>\n",
       "      <td>1909</td>\n",
       "      <td>7.0</td>\n",
       "    </tr>\n",
       "    <tr>\n",
       "      <th>1</th>\n",
       "      <td>a_noun</td>\n",
       "      <td>abstract_adj</td>\n",
       "      <td>1912</td>\n",
       "      <td>8.0</td>\n",
       "    </tr>\n",
       "    <tr>\n",
       "      <th>2</th>\n",
       "      <td>a_noun</td>\n",
       "      <td>abstract_adj</td>\n",
       "      <td>1922</td>\n",
       "      <td>2.0</td>\n",
       "    </tr>\n",
       "    <tr>\n",
       "      <th>3</th>\n",
       "      <td>a_noun</td>\n",
       "      <td>abstract_adj</td>\n",
       "      <td>1928</td>\n",
       "      <td>1.0</td>\n",
       "    </tr>\n",
       "    <tr>\n",
       "      <th>4</th>\n",
       "      <td>a_noun</td>\n",
       "      <td>abstract_adj</td>\n",
       "      <td>1932</td>\n",
       "      <td>1.0</td>\n",
       "    </tr>\n",
       "  </tbody>\n",
       "</table>\n",
       "</div>"
      ],
      "text/plain": [
       "     head       context  year  count\n",
       "0  a_noun  abstract_adj  1909    7.0\n",
       "1  a_noun  abstract_adj  1912    8.0\n",
       "2  a_noun  abstract_adj  1922    2.0\n",
       "3  a_noun  abstract_adj  1928    1.0\n",
       "4  a_noun  abstract_adj  1932    1.0"
      ]
     },
     "execution_count": 5,
     "metadata": {},
     "output_type": "execute_result"
    }
   ],
   "source": [
    "heads_complete=pd.concat([heads,heads_reduced],ignore_index=True,sort=False)\n",
    "heads_complete.info()\n",
    "heads_complete.head()"
   ]
  },
  {
   "cell_type": "code",
   "execution_count": null,
   "metadata": {},
   "outputs": [],
   "source": []
  },
  {
   "cell_type": "code",
   "execution_count": 6,
   "metadata": {},
   "outputs": [
    {
     "name": "stdout",
     "output_type": "stream",
     "text": [
      "Change in Head shape -58.63\n",
      "<class 'pandas.core.frame.DataFrame'>\n",
      "MultiIndex: 197240335 entries, (a_noun, '_noun, 1860) to (zywicki_noun, world_noun, 1993)\n",
      "Data columns (total 1 columns):\n",
      "count    float64\n",
      "dtypes: float64(1)\n",
      "memory usage: 3.3+ GB\n"
     ]
    },
    {
     "data": {
      "text/html": [
       "<div>\n",
       "<style scoped>\n",
       "    .dataframe tbody tr th:only-of-type {\n",
       "        vertical-align: middle;\n",
       "    }\n",
       "\n",
       "    .dataframe tbody tr th {\n",
       "        vertical-align: top;\n",
       "    }\n",
       "\n",
       "    .dataframe thead th {\n",
       "        text-align: right;\n",
       "    }\n",
       "</style>\n",
       "<table border=\"1\" class=\"dataframe\">\n",
       "  <thead>\n",
       "    <tr style=\"text-align: right;\">\n",
       "      <th></th>\n",
       "      <th></th>\n",
       "      <th></th>\n",
       "      <th>count</th>\n",
       "    </tr>\n",
       "    <tr>\n",
       "      <th>head</th>\n",
       "      <th>context</th>\n",
       "      <th>year</th>\n",
       "      <th></th>\n",
       "    </tr>\n",
       "  </thead>\n",
       "  <tbody>\n",
       "    <tr>\n",
       "      <th rowspan=\"5\" valign=\"top\">a_noun</th>\n",
       "      <th rowspan=\"5\" valign=\"top\">'_noun</th>\n",
       "      <th>1860</th>\n",
       "      <td>2.0</td>\n",
       "    </tr>\n",
       "    <tr>\n",
       "      <th>1873</th>\n",
       "      <td>4.0</td>\n",
       "    </tr>\n",
       "    <tr>\n",
       "      <th>1882</th>\n",
       "      <td>1.0</td>\n",
       "    </tr>\n",
       "    <tr>\n",
       "      <th>1889</th>\n",
       "      <td>2.0</td>\n",
       "    </tr>\n",
       "    <tr>\n",
       "      <th>1894</th>\n",
       "      <td>7.0</td>\n",
       "    </tr>\n",
       "  </tbody>\n",
       "</table>\n",
       "</div>"
      ],
      "text/plain": [
       "                     count\n",
       "head   context year       \n",
       "a_noun '_noun  1860    2.0\n",
       "               1873    4.0\n",
       "               1882    1.0\n",
       "               1889    2.0\n",
       "               1894    7.0"
      ]
     },
     "execution_count": 6,
     "metadata": {},
     "output_type": "execute_result"
    }
   ],
   "source": [
    "old_shape=heads_complete.shape[0]\n",
    "heads_complete=heads_complete.groupby(['head','context','year'])['count'].sum().to_frame()\n",
    "new_shape=heads_complete.shape[0]\n",
    "print(f'Change in Head shape {(new_shape-old_shape)/old_shape*100:.2f}')\n",
    "heads_complete.info()\n",
    "heads_complete.head()"
   ]
  },
  {
   "cell_type": "markdown",
   "metadata": {},
   "source": [
    "## Reducing Modifiers"
   ]
  },
  {
   "cell_type": "code",
   "execution_count": 10,
   "metadata": {},
   "outputs": [
    {
     "name": "stdout",
     "output_type": "stream",
     "text": [
      "<class 'pandas.core.frame.DataFrame'>\n",
      "MultiIndex: 182754466 entries, (a_noun, '_noun, 1821) to (zzzz_noun, security_noun, 2008)\n",
      "Data columns (total 1 columns):\n",
      "count    float64\n",
      "dtypes: float64(1)\n",
      "memory usage: 3.1+ GB\n"
     ]
    },
    {
     "data": {
      "text/html": [
       "<div>\n",
       "<style scoped>\n",
       "    .dataframe tbody tr th:only-of-type {\n",
       "        vertical-align: middle;\n",
       "    }\n",
       "\n",
       "    .dataframe tbody tr th {\n",
       "        vertical-align: top;\n",
       "    }\n",
       "\n",
       "    .dataframe thead th {\n",
       "        text-align: right;\n",
       "    }\n",
       "</style>\n",
       "<table border=\"1\" class=\"dataframe\">\n",
       "  <thead>\n",
       "    <tr style=\"text-align: right;\">\n",
       "      <th></th>\n",
       "      <th></th>\n",
       "      <th></th>\n",
       "      <th>count</th>\n",
       "    </tr>\n",
       "    <tr>\n",
       "      <th>modifier</th>\n",
       "      <th>context</th>\n",
       "      <th>year</th>\n",
       "      <th></th>\n",
       "    </tr>\n",
       "  </thead>\n",
       "  <tbody>\n",
       "    <tr>\n",
       "      <th rowspan=\"5\" valign=\"top\">a_noun</th>\n",
       "      <th rowspan=\"5\" valign=\"top\">'_noun</th>\n",
       "      <th>1821</th>\n",
       "      <td>1.0</td>\n",
       "    </tr>\n",
       "    <tr>\n",
       "      <th>1831</th>\n",
       "      <td>1.0</td>\n",
       "    </tr>\n",
       "    <tr>\n",
       "      <th>1838</th>\n",
       "      <td>4.0</td>\n",
       "    </tr>\n",
       "    <tr>\n",
       "      <th>1843</th>\n",
       "      <td>5.0</td>\n",
       "    </tr>\n",
       "    <tr>\n",
       "      <th>1847</th>\n",
       "      <td>1.0</td>\n",
       "    </tr>\n",
       "  </tbody>\n",
       "</table>\n",
       "</div>"
      ],
      "text/plain": [
       "                       count\n",
       "modifier context year       \n",
       "a_noun   '_noun  1821    1.0\n",
       "                 1831    1.0\n",
       "                 1838    4.0\n",
       "                 1843    5.0\n",
       "                 1847    1.0"
      ]
     },
     "execution_count": 10,
     "metadata": {},
     "output_type": "execute_result"
    }
   ],
   "source": [
    "modifiers=pd.read_pickle('/data/dharp/compounding/datasets/modifiers.pkl')\n",
    "modifiers.info()\n",
    "modifiers.head()"
   ]
  },
  {
   "cell_type": "code",
   "execution_count": 11,
   "metadata": {},
   "outputs": [],
   "source": [
    "modifiers_list=list(set(modifiers.index.get_level_values(0).tolist()))"
   ]
  },
  {
   "cell_type": "code",
   "execution_count": 12,
   "metadata": {},
   "outputs": [
    {
     "data": {
      "text/plain": [
       "90565"
      ]
     },
     "execution_count": 12,
     "metadata": {},
     "output_type": "execute_result"
    }
   ],
   "source": [
    "len(modifiers_list)"
   ]
  },
  {
   "cell_type": "code",
   "execution_count": 14,
   "metadata": {},
   "outputs": [],
   "source": [
    "words_list=list(set(head_list+modifiers_list))"
   ]
  },
  {
   "cell_type": "code",
   "execution_count": 15,
   "metadata": {},
   "outputs": [
    {
     "data": {
      "text/plain": [
       "151817"
      ]
     },
     "execution_count": 15,
     "metadata": {},
     "output_type": "execute_result"
    }
   ],
   "source": [
    "len(words_list)"
   ]
  },
  {
   "cell_type": "code",
   "execution_count": 17,
   "metadata": {},
   "outputs": [],
   "source": [
    "pkl.dump( words_list, open( \"words_list.pkl\", \"wb\" ) )"
   ]
  },
  {
   "cell_type": "code",
   "execution_count": 8,
   "metadata": {},
   "outputs": [
    {
     "name": "stdout",
     "output_type": "stream",
     "text": [
      "<class 'pandas.core.frame.DataFrame'>\n",
      "RangeIndex: 91187126 entries, 0 to 91187125\n",
      "Data columns (total 4 columns):\n",
      "modifier    object\n",
      "context     object\n",
      "year        int64\n",
      "count       int64\n",
      "dtypes: int64(2), object(2)\n",
      "memory usage: 2.7+ GB\n"
     ]
    },
    {
     "data": {
      "text/html": [
       "<div>\n",
       "<style scoped>\n",
       "    .dataframe tbody tr th:only-of-type {\n",
       "        vertical-align: middle;\n",
       "    }\n",
       "\n",
       "    .dataframe tbody tr th {\n",
       "        vertical-align: top;\n",
       "    }\n",
       "\n",
       "    .dataframe thead th {\n",
       "        text-align: right;\n",
       "    }\n",
       "</style>\n",
       "<table border=\"1\" class=\"dataframe\">\n",
       "  <thead>\n",
       "    <tr style=\"text-align: right;\">\n",
       "      <th></th>\n",
       "      <th>modifier</th>\n",
       "      <th>context</th>\n",
       "      <th>year</th>\n",
       "      <th>count</th>\n",
       "    </tr>\n",
       "  </thead>\n",
       "  <tbody>\n",
       "    <tr>\n",
       "      <th>0</th>\n",
       "      <td>a_noun</td>\n",
       "      <td>'_verb</td>\n",
       "      <td>1952</td>\n",
       "      <td>1</td>\n",
       "    </tr>\n",
       "    <tr>\n",
       "      <th>1</th>\n",
       "      <td>a_noun</td>\n",
       "      <td>'_verb</td>\n",
       "      <td>1956</td>\n",
       "      <td>1</td>\n",
       "    </tr>\n",
       "    <tr>\n",
       "      <th>2</th>\n",
       "      <td>a_noun</td>\n",
       "      <td>'_verb</td>\n",
       "      <td>1957</td>\n",
       "      <td>1</td>\n",
       "    </tr>\n",
       "    <tr>\n",
       "      <th>3</th>\n",
       "      <td>a_noun</td>\n",
       "      <td>'_verb</td>\n",
       "      <td>1958</td>\n",
       "      <td>1</td>\n",
       "    </tr>\n",
       "    <tr>\n",
       "      <th>4</th>\n",
       "      <td>a_noun</td>\n",
       "      <td>'_verb</td>\n",
       "      <td>1961</td>\n",
       "      <td>1</td>\n",
       "    </tr>\n",
       "  </tbody>\n",
       "</table>\n",
       "</div>"
      ],
      "text/plain": [
       "  modifier context  year  count\n",
       "0   a_noun  '_verb  1952      1\n",
       "1   a_noun  '_verb  1956      1\n",
       "2   a_noun  '_verb  1957      1\n",
       "3   a_noun  '_verb  1958      1\n",
       "4   a_noun  '_verb  1961      1"
      ]
     },
     "execution_count": 8,
     "metadata": {},
     "output_type": "execute_result"
    }
   ],
   "source": [
    "modifiers_reduced=pd.read_csv('/data/dharp/compounding/datasets/modifiers_reduced.csv',sep='\\t')\n",
    "modifiers_reduced.info()\n",
    "modifiers_reduced.head()"
   ]
  },
  {
   "cell_type": "code",
   "execution_count": 9,
   "metadata": {},
   "outputs": [
    {
     "name": "stdout",
     "output_type": "stream",
     "text": [
      "<class 'pandas.core.frame.DataFrame'>\n",
      "RangeIndex: 439294472 entries, 0 to 439294471\n",
      "Data columns (total 4 columns):\n",
      "modifier    object\n",
      "context     object\n",
      "year        int64\n",
      "count       float64\n",
      "dtypes: float64(1), int64(1), object(2)\n",
      "memory usage: 13.1+ GB\n"
     ]
    },
    {
     "data": {
      "text/html": [
       "<div>\n",
       "<style scoped>\n",
       "    .dataframe tbody tr th:only-of-type {\n",
       "        vertical-align: middle;\n",
       "    }\n",
       "\n",
       "    .dataframe tbody tr th {\n",
       "        vertical-align: top;\n",
       "    }\n",
       "\n",
       "    .dataframe thead th {\n",
       "        text-align: right;\n",
       "    }\n",
       "</style>\n",
       "<table border=\"1\" class=\"dataframe\">\n",
       "  <thead>\n",
       "    <tr style=\"text-align: right;\">\n",
       "      <th></th>\n",
       "      <th>modifier</th>\n",
       "      <th>context</th>\n",
       "      <th>year</th>\n",
       "      <th>count</th>\n",
       "    </tr>\n",
       "  </thead>\n",
       "  <tbody>\n",
       "    <tr>\n",
       "      <th>0</th>\n",
       "      <td>a_noun</td>\n",
       "      <td>b_noun</td>\n",
       "      <td>1862</td>\n",
       "      <td>2.0</td>\n",
       "    </tr>\n",
       "    <tr>\n",
       "      <th>1</th>\n",
       "      <td>a_noun</td>\n",
       "      <td>b_noun</td>\n",
       "      <td>1877</td>\n",
       "      <td>1.0</td>\n",
       "    </tr>\n",
       "    <tr>\n",
       "      <th>2</th>\n",
       "      <td>a_noun</td>\n",
       "      <td>b_noun</td>\n",
       "      <td>1889</td>\n",
       "      <td>1.0</td>\n",
       "    </tr>\n",
       "    <tr>\n",
       "      <th>3</th>\n",
       "      <td>a_noun</td>\n",
       "      <td>b_noun</td>\n",
       "      <td>1890</td>\n",
       "      <td>3.0</td>\n",
       "    </tr>\n",
       "    <tr>\n",
       "      <th>4</th>\n",
       "      <td>a_noun</td>\n",
       "      <td>b_noun</td>\n",
       "      <td>1899</td>\n",
       "      <td>1.0</td>\n",
       "    </tr>\n",
       "  </tbody>\n",
       "</table>\n",
       "</div>"
      ],
      "text/plain": [
       "  modifier context  year  count\n",
       "0   a_noun  b_noun  1862    2.0\n",
       "1   a_noun  b_noun  1877    1.0\n",
       "2   a_noun  b_noun  1889    1.0\n",
       "3   a_noun  b_noun  1890    3.0\n",
       "4   a_noun  b_noun  1899    1.0"
      ]
     },
     "execution_count": 9,
     "metadata": {},
     "output_type": "execute_result"
    }
   ],
   "source": [
    "modifiers_complete=pd.concat([modifiers,modifiers_reduced],ignore_index=True,sort=False)\n",
    "modifiers_complete.info()\n",
    "modifiers_complete.head()"
   ]
  },
  {
   "cell_type": "code",
   "execution_count": 10,
   "metadata": {},
   "outputs": [
    {
     "name": "stdout",
     "output_type": "stream",
     "text": [
      "Change in Modifier shape -58.40\n",
      "<class 'pandas.core.frame.DataFrame'>\n",
      "MultiIndex: 182754467 entries, (_noun, 1896, 4) to (zzzz_noun, security_noun, 2008)\n",
      "Data columns (total 1 columns):\n",
      "count    float64\n",
      "dtypes: float64(1)\n",
      "memory usage: 3.1+ GB\n"
     ]
    },
    {
     "data": {
      "text/html": [
       "<div>\n",
       "<style scoped>\n",
       "    .dataframe tbody tr th:only-of-type {\n",
       "        vertical-align: middle;\n",
       "    }\n",
       "\n",
       "    .dataframe tbody tr th {\n",
       "        vertical-align: top;\n",
       "    }\n",
       "\n",
       "    .dataframe thead th {\n",
       "        text-align: right;\n",
       "    }\n",
       "</style>\n",
       "<table border=\"1\" class=\"dataframe\">\n",
       "  <thead>\n",
       "    <tr style=\"text-align: right;\">\n",
       "      <th></th>\n",
       "      <th></th>\n",
       "      <th></th>\n",
       "      <th>count</th>\n",
       "    </tr>\n",
       "    <tr>\n",
       "      <th>modifier</th>\n",
       "      <th>context</th>\n",
       "      <th>year</th>\n",
       "      <th></th>\n",
       "    </tr>\n",
       "  </thead>\n",
       "  <tbody>\n",
       "    <tr>\n",
       "      <th>_noun</th>\n",
       "      <th>1896</th>\n",
       "      <th>4</th>\n",
       "      <td>0.0</td>\n",
       "    </tr>\n",
       "    <tr>\n",
       "      <th rowspan=\"4\" valign=\"top\">a_noun</th>\n",
       "      <th rowspan=\"4\" valign=\"top\">'_noun</th>\n",
       "      <th>1821</th>\n",
       "      <td>1.0</td>\n",
       "    </tr>\n",
       "    <tr>\n",
       "      <th>1831</th>\n",
       "      <td>1.0</td>\n",
       "    </tr>\n",
       "    <tr>\n",
       "      <th>1838</th>\n",
       "      <td>4.0</td>\n",
       "    </tr>\n",
       "    <tr>\n",
       "      <th>1843</th>\n",
       "      <td>5.0</td>\n",
       "    </tr>\n",
       "  </tbody>\n",
       "</table>\n",
       "</div>"
      ],
      "text/plain": [
       "                       count\n",
       "modifier context year       \n",
       "_noun    1896    4       0.0\n",
       "a_noun   '_noun  1821    1.0\n",
       "                 1831    1.0\n",
       "                 1838    4.0\n",
       "                 1843    5.0"
      ]
     },
     "execution_count": 10,
     "metadata": {},
     "output_type": "execute_result"
    }
   ],
   "source": [
    "old_shape=modifiers_complete.shape[0]\n",
    "modifiers_complete=modifiers_complete.groupby(['modifier','context','year'])['count'].sum().to_frame()\n",
    "new_shape=modifiers_complete.shape[0]\n",
    "print(f'Change in Modifier shape {(new_shape-old_shape)/old_shape*100:.2f}')\n",
    "modifiers_complete.info()\n",
    "modifiers_complete.head()"
   ]
  },
  {
   "cell_type": "code",
   "execution_count": 18,
   "metadata": {},
   "outputs": [],
   "source": [
    "modifiers_complete=modifiers_complete[1:]"
   ]
  },
  {
   "cell_type": "markdown",
   "metadata": {},
   "source": [
    "## Reducing Compounds"
   ]
  },
  {
   "cell_type": "code",
   "execution_count": 11,
   "metadata": {},
   "outputs": [
    {
     "name": "stdout",
     "output_type": "stream",
     "text": [
      "<class 'pandas.core.frame.DataFrame'>\n",
      "RangeIndex: 307153050 entries, 0 to 307153049\n",
      "Data columns (total 5 columns):\n",
      "modifier    object\n",
      "head        object\n",
      "context     object\n",
      "year        int64\n",
      "count       int64\n",
      "dtypes: int64(2), object(3)\n",
      "memory usage: 11.4+ GB\n"
     ]
    },
    {
     "data": {
      "text/html": [
       "<div>\n",
       "<style scoped>\n",
       "    .dataframe tbody tr th:only-of-type {\n",
       "        vertical-align: middle;\n",
       "    }\n",
       "\n",
       "    .dataframe tbody tr th {\n",
       "        vertical-align: top;\n",
       "    }\n",
       "\n",
       "    .dataframe thead th {\n",
       "        text-align: right;\n",
       "    }\n",
       "</style>\n",
       "<table border=\"1\" class=\"dataframe\">\n",
       "  <thead>\n",
       "    <tr style=\"text-align: right;\">\n",
       "      <th></th>\n",
       "      <th>modifier</th>\n",
       "      <th>head</th>\n",
       "      <th>context</th>\n",
       "      <th>year</th>\n",
       "      <th>count</th>\n",
       "    </tr>\n",
       "  </thead>\n",
       "  <tbody>\n",
       "    <tr>\n",
       "      <th>0</th>\n",
       "      <td>a_noun</td>\n",
       "      <td>b_noun</td>\n",
       "      <td>c_noun</td>\n",
       "      <td>1862</td>\n",
       "      <td>2</td>\n",
       "    </tr>\n",
       "    <tr>\n",
       "      <th>1</th>\n",
       "      <td>a_noun</td>\n",
       "      <td>b_noun</td>\n",
       "      <td>c_noun</td>\n",
       "      <td>1877</td>\n",
       "      <td>1</td>\n",
       "    </tr>\n",
       "    <tr>\n",
       "      <th>2</th>\n",
       "      <td>a_noun</td>\n",
       "      <td>b_noun</td>\n",
       "      <td>c_noun</td>\n",
       "      <td>1889</td>\n",
       "      <td>1</td>\n",
       "    </tr>\n",
       "    <tr>\n",
       "      <th>3</th>\n",
       "      <td>a_noun</td>\n",
       "      <td>b_noun</td>\n",
       "      <td>c_noun</td>\n",
       "      <td>1890</td>\n",
       "      <td>3</td>\n",
       "    </tr>\n",
       "    <tr>\n",
       "      <th>4</th>\n",
       "      <td>a_noun</td>\n",
       "      <td>b_noun</td>\n",
       "      <td>c_noun</td>\n",
       "      <td>1899</td>\n",
       "      <td>1</td>\n",
       "    </tr>\n",
       "  </tbody>\n",
       "</table>\n",
       "</div>"
      ],
      "text/plain": [
       "  modifier    head context  year  count\n",
       "0   a_noun  b_noun  c_noun  1862      2\n",
       "1   a_noun  b_noun  c_noun  1877      1\n",
       "2   a_noun  b_noun  c_noun  1889      1\n",
       "3   a_noun  b_noun  c_noun  1890      3\n",
       "4   a_noun  b_noun  c_noun  1899      1"
      ]
     },
     "execution_count": 11,
     "metadata": {},
     "output_type": "execute_result"
    }
   ],
   "source": [
    "compounds=pd.read_csv('/data/dharp/compounding/datasets/compounds.csv',sep='\\t')\n",
    "compounds.info()\n",
    "compounds.head()"
   ]
  },
  {
   "cell_type": "code",
   "execution_count": 12,
   "metadata": {},
   "outputs": [
    {
     "name": "stdout",
     "output_type": "stream",
     "text": [
      "<class 'pandas.core.frame.DataFrame'>\n",
      "RangeIndex: 116884813 entries, 0 to 116884812\n",
      "Data columns (total 5 columns):\n",
      "modifier    object\n",
      "head        object\n",
      "context     object\n",
      "year        float64\n",
      "count       float64\n",
      "dtypes: float64(2), object(3)\n",
      "memory usage: 4.4+ GB\n"
     ]
    },
    {
     "data": {
      "text/html": [
       "<div>\n",
       "<style scoped>\n",
       "    .dataframe tbody tr th:only-of-type {\n",
       "        vertical-align: middle;\n",
       "    }\n",
       "\n",
       "    .dataframe tbody tr th {\n",
       "        vertical-align: top;\n",
       "    }\n",
       "\n",
       "    .dataframe thead th {\n",
       "        text-align: right;\n",
       "    }\n",
       "</style>\n",
       "<table border=\"1\" class=\"dataframe\">\n",
       "  <thead>\n",
       "    <tr style=\"text-align: right;\">\n",
       "      <th></th>\n",
       "      <th>modifier</th>\n",
       "      <th>head</th>\n",
       "      <th>context</th>\n",
       "      <th>year</th>\n",
       "      <th>count</th>\n",
       "    </tr>\n",
       "  </thead>\n",
       "  <tbody>\n",
       "    <tr>\n",
       "      <th>0</th>\n",
       "      <td>a_noun</td>\n",
       "      <td>aaaaa_noun</td>\n",
       "      <td>a_noun</td>\n",
       "      <td>1877.0</td>\n",
       "      <td>1.0</td>\n",
       "    </tr>\n",
       "    <tr>\n",
       "      <th>1</th>\n",
       "      <td>a_noun</td>\n",
       "      <td>aaaaa_noun</td>\n",
       "      <td>a_noun</td>\n",
       "      <td>1913.0</td>\n",
       "      <td>1.0</td>\n",
       "    </tr>\n",
       "    <tr>\n",
       "      <th>2</th>\n",
       "      <td>a_noun</td>\n",
       "      <td>aaaaa_noun</td>\n",
       "      <td>a_noun</td>\n",
       "      <td>1925.0</td>\n",
       "      <td>3.0</td>\n",
       "    </tr>\n",
       "    <tr>\n",
       "      <th>3</th>\n",
       "      <td>a_noun</td>\n",
       "      <td>aaaaa_noun</td>\n",
       "      <td>a_noun</td>\n",
       "      <td>1931.0</td>\n",
       "      <td>1.0</td>\n",
       "    </tr>\n",
       "    <tr>\n",
       "      <th>4</th>\n",
       "      <td>a_noun</td>\n",
       "      <td>aaaaa_noun</td>\n",
       "      <td>a_noun</td>\n",
       "      <td>1948.0</td>\n",
       "      <td>1.0</td>\n",
       "    </tr>\n",
       "  </tbody>\n",
       "</table>\n",
       "</div>"
      ],
      "text/plain": [
       "  modifier        head context    year  count\n",
       "0   a_noun  aaaaa_noun  a_noun  1877.0    1.0\n",
       "1   a_noun  aaaaa_noun  a_noun  1913.0    1.0\n",
       "2   a_noun  aaaaa_noun  a_noun  1925.0    3.0\n",
       "3   a_noun  aaaaa_noun  a_noun  1931.0    1.0\n",
       "4   a_noun  aaaaa_noun  a_noun  1948.0    1.0"
      ]
     },
     "execution_count": 12,
     "metadata": {},
     "output_type": "execute_result"
    }
   ],
   "source": [
    "compounds_reduced=pd.read_csv('/data/dharp/compounding/datasets/compounds_reduced.csv',sep='\\t')\n",
    "compounds_reduced.info()\n",
    "compounds_reduced.head()"
   ]
  },
  {
   "cell_type": "code",
   "execution_count": 13,
   "metadata": {},
   "outputs": [
    {
     "name": "stdout",
     "output_type": "stream",
     "text": [
      "<class 'pandas.core.frame.DataFrame'>\n",
      "RangeIndex: 424037863 entries, 0 to 424037862\n",
      "Data columns (total 5 columns):\n",
      "modifier    object\n",
      "head        object\n",
      "context     object\n",
      "year        float64\n",
      "count       float64\n",
      "dtypes: float64(2), object(3)\n",
      "memory usage: 15.8+ GB\n"
     ]
    },
    {
     "data": {
      "text/html": [
       "<div>\n",
       "<style scoped>\n",
       "    .dataframe tbody tr th:only-of-type {\n",
       "        vertical-align: middle;\n",
       "    }\n",
       "\n",
       "    .dataframe tbody tr th {\n",
       "        vertical-align: top;\n",
       "    }\n",
       "\n",
       "    .dataframe thead th {\n",
       "        text-align: right;\n",
       "    }\n",
       "</style>\n",
       "<table border=\"1\" class=\"dataframe\">\n",
       "  <thead>\n",
       "    <tr style=\"text-align: right;\">\n",
       "      <th></th>\n",
       "      <th>modifier</th>\n",
       "      <th>head</th>\n",
       "      <th>context</th>\n",
       "      <th>year</th>\n",
       "      <th>count</th>\n",
       "    </tr>\n",
       "  </thead>\n",
       "  <tbody>\n",
       "    <tr>\n",
       "      <th>0</th>\n",
       "      <td>a_noun</td>\n",
       "      <td>b_noun</td>\n",
       "      <td>c_noun</td>\n",
       "      <td>1862.0</td>\n",
       "      <td>2.0</td>\n",
       "    </tr>\n",
       "    <tr>\n",
       "      <th>1</th>\n",
       "      <td>a_noun</td>\n",
       "      <td>b_noun</td>\n",
       "      <td>c_noun</td>\n",
       "      <td>1877.0</td>\n",
       "      <td>1.0</td>\n",
       "    </tr>\n",
       "    <tr>\n",
       "      <th>2</th>\n",
       "      <td>a_noun</td>\n",
       "      <td>b_noun</td>\n",
       "      <td>c_noun</td>\n",
       "      <td>1889.0</td>\n",
       "      <td>1.0</td>\n",
       "    </tr>\n",
       "    <tr>\n",
       "      <th>3</th>\n",
       "      <td>a_noun</td>\n",
       "      <td>b_noun</td>\n",
       "      <td>c_noun</td>\n",
       "      <td>1890.0</td>\n",
       "      <td>3.0</td>\n",
       "    </tr>\n",
       "    <tr>\n",
       "      <th>4</th>\n",
       "      <td>a_noun</td>\n",
       "      <td>b_noun</td>\n",
       "      <td>c_noun</td>\n",
       "      <td>1899.0</td>\n",
       "      <td>1.0</td>\n",
       "    </tr>\n",
       "  </tbody>\n",
       "</table>\n",
       "</div>"
      ],
      "text/plain": [
       "  modifier    head context    year  count\n",
       "0   a_noun  b_noun  c_noun  1862.0    2.0\n",
       "1   a_noun  b_noun  c_noun  1877.0    1.0\n",
       "2   a_noun  b_noun  c_noun  1889.0    1.0\n",
       "3   a_noun  b_noun  c_noun  1890.0    3.0\n",
       "4   a_noun  b_noun  c_noun  1899.0    1.0"
      ]
     },
     "execution_count": 13,
     "metadata": {},
     "output_type": "execute_result"
    }
   ],
   "source": [
    "compounds_complete=pd.concat([compounds,compounds_reduced],ignore_index=True,sort=False)\n",
    "compounds_complete.info()\n",
    "compounds_complete.head()"
   ]
  },
  {
   "cell_type": "code",
   "execution_count": 14,
   "metadata": {},
   "outputs": [
    {
     "name": "stdout",
     "output_type": "stream",
     "text": [
      "Change in Modifier shape -34.88\n",
      "<class 'pandas.core.frame.DataFrame'>\n",
      "MultiIndex: 276118570 entries, (a_noun, aaaaa_noun, a_noun, 1877.0) to (zzzz_noun, best_noun, security_noun, 2008.0)\n",
      "Data columns (total 1 columns):\n",
      "count    float64\n",
      "dtypes: float64(1)\n",
      "memory usage: 5.7+ GB\n"
     ]
    },
    {
     "data": {
      "text/html": [
       "<div>\n",
       "<style scoped>\n",
       "    .dataframe tbody tr th:only-of-type {\n",
       "        vertical-align: middle;\n",
       "    }\n",
       "\n",
       "    .dataframe tbody tr th {\n",
       "        vertical-align: top;\n",
       "    }\n",
       "\n",
       "    .dataframe thead th {\n",
       "        text-align: right;\n",
       "    }\n",
       "</style>\n",
       "<table border=\"1\" class=\"dataframe\">\n",
       "  <thead>\n",
       "    <tr style=\"text-align: right;\">\n",
       "      <th></th>\n",
       "      <th></th>\n",
       "      <th></th>\n",
       "      <th></th>\n",
       "      <th>count</th>\n",
       "    </tr>\n",
       "    <tr>\n",
       "      <th>modifier</th>\n",
       "      <th>head</th>\n",
       "      <th>context</th>\n",
       "      <th>year</th>\n",
       "      <th></th>\n",
       "    </tr>\n",
       "  </thead>\n",
       "  <tbody>\n",
       "    <tr>\n",
       "      <th rowspan=\"5\" valign=\"top\">a_noun</th>\n",
       "      <th rowspan=\"5\" valign=\"top\">aaaaa_noun</th>\n",
       "      <th rowspan=\"5\" valign=\"top\">a_noun</th>\n",
       "      <th>1877.0</th>\n",
       "      <td>1.0</td>\n",
       "    </tr>\n",
       "    <tr>\n",
       "      <th>1913.0</th>\n",
       "      <td>1.0</td>\n",
       "    </tr>\n",
       "    <tr>\n",
       "      <th>1925.0</th>\n",
       "      <td>3.0</td>\n",
       "    </tr>\n",
       "    <tr>\n",
       "      <th>1931.0</th>\n",
       "      <td>1.0</td>\n",
       "    </tr>\n",
       "    <tr>\n",
       "      <th>1948.0</th>\n",
       "      <td>1.0</td>\n",
       "    </tr>\n",
       "  </tbody>\n",
       "</table>\n",
       "</div>"
      ],
      "text/plain": [
       "                                    count\n",
       "modifier head       context year         \n",
       "a_noun   aaaaa_noun a_noun  1877.0    1.0\n",
       "                            1913.0    1.0\n",
       "                            1925.0    3.0\n",
       "                            1931.0    1.0\n",
       "                            1948.0    1.0"
      ]
     },
     "execution_count": 14,
     "metadata": {},
     "output_type": "execute_result"
    }
   ],
   "source": [
    "old_shape=compounds_complete.shape[0]\n",
    "compounds_complete=compounds_complete.groupby(['modifier','head','context','year'])['count'].sum().to_frame()\n",
    "new_shape=compounds_complete.shape[0]\n",
    "print(f'Change in Modifier shape {(new_shape-old_shape)/old_shape*100:.2f}')\n",
    "compounds_complete.info()\n",
    "compounds_complete.head()"
   ]
  },
  {
   "cell_type": "markdown",
   "metadata": {},
   "source": [
    "## Reducing Phrases"
   ]
  },
  {
   "cell_type": "code",
   "execution_count": 2,
   "metadata": {},
   "outputs": [
    {
     "name": "stdout",
     "output_type": "stream",
     "text": [
      "<class 'pandas.core.frame.DataFrame'>\n",
      "RangeIndex: 376343029 entries, 0 to 376343028\n",
      "Data columns (total 5 columns):\n",
      "modifier    object\n",
      "head        object\n",
      "context     object\n",
      "year        int64\n",
      "count       float64\n",
      "dtypes: float64(1), int64(1), object(3)\n",
      "memory usage: 14.0+ GB\n"
     ]
    },
    {
     "data": {
      "text/html": [
       "<div>\n",
       "<style scoped>\n",
       "    .dataframe tbody tr th:only-of-type {\n",
       "        vertical-align: middle;\n",
       "    }\n",
       "\n",
       "    .dataframe tbody tr th {\n",
       "        vertical-align: top;\n",
       "    }\n",
       "\n",
       "    .dataframe thead th {\n",
       "        text-align: right;\n",
       "    }\n",
       "</style>\n",
       "<table border=\"1\" class=\"dataframe\">\n",
       "  <thead>\n",
       "    <tr style=\"text-align: right;\">\n",
       "      <th></th>\n",
       "      <th>modifier</th>\n",
       "      <th>head</th>\n",
       "      <th>context</th>\n",
       "      <th>year</th>\n",
       "      <th>count</th>\n",
       "    </tr>\n",
       "  </thead>\n",
       "  <tbody>\n",
       "    <tr>\n",
       "      <th>0</th>\n",
       "      <td>'_noun</td>\n",
       "      <td>'_noun</td>\n",
       "      <td>be_verb</td>\n",
       "      <td>1863</td>\n",
       "      <td>1.0</td>\n",
       "    </tr>\n",
       "    <tr>\n",
       "      <th>1</th>\n",
       "      <td>'_noun</td>\n",
       "      <td>'_noun</td>\n",
       "      <td>be_verb</td>\n",
       "      <td>1870</td>\n",
       "      <td>1.0</td>\n",
       "    </tr>\n",
       "    <tr>\n",
       "      <th>2</th>\n",
       "      <td>'_noun</td>\n",
       "      <td>'_noun</td>\n",
       "      <td>be_verb</td>\n",
       "      <td>1871</td>\n",
       "      <td>2.0</td>\n",
       "    </tr>\n",
       "    <tr>\n",
       "      <th>3</th>\n",
       "      <td>'_noun</td>\n",
       "      <td>'_noun</td>\n",
       "      <td>be_verb</td>\n",
       "      <td>1873</td>\n",
       "      <td>4.0</td>\n",
       "    </tr>\n",
       "    <tr>\n",
       "      <th>4</th>\n",
       "      <td>'_noun</td>\n",
       "      <td>'_noun</td>\n",
       "      <td>be_verb</td>\n",
       "      <td>1875</td>\n",
       "      <td>2.0</td>\n",
       "    </tr>\n",
       "  </tbody>\n",
       "</table>\n",
       "</div>"
      ],
      "text/plain": [
       "  modifier    head  context  year  count\n",
       "0   '_noun  '_noun  be_verb  1863    1.0\n",
       "1   '_noun  '_noun  be_verb  1870    1.0\n",
       "2   '_noun  '_noun  be_verb  1871    2.0\n",
       "3   '_noun  '_noun  be_verb  1873    4.0\n",
       "4   '_noun  '_noun  be_verb  1875    2.0"
      ]
     },
     "execution_count": 2,
     "metadata": {},
     "output_type": "execute_result"
    }
   ],
   "source": [
    "phrases=pd.read_csv('/data/dharp/compounding/datasets/phrases.csv',sep='\\t')\n",
    "phrases.info()\n",
    "phrases.head()"
   ]
  },
  {
   "cell_type": "code",
   "execution_count": 4,
   "metadata": {},
   "outputs": [
    {
     "name": "stdout",
     "output_type": "stream",
     "text": [
      "<class 'pandas.core.frame.DataFrame'>\n",
      "RangeIndex: 92109656 entries, 0 to 92109655\n",
      "Data columns (total 5 columns):\n",
      "modifier    object\n",
      "head        object\n",
      "context     object\n",
      "year        int64\n",
      "count       float64\n",
      "dtypes: float64(1), int64(1), object(3)\n",
      "memory usage: 3.4+ GB\n"
     ]
    },
    {
     "data": {
      "text/html": [
       "<div>\n",
       "<style scoped>\n",
       "    .dataframe tbody tr th:only-of-type {\n",
       "        vertical-align: middle;\n",
       "    }\n",
       "\n",
       "    .dataframe tbody tr th {\n",
       "        vertical-align: top;\n",
       "    }\n",
       "\n",
       "    .dataframe thead th {\n",
       "        text-align: right;\n",
       "    }\n",
       "</style>\n",
       "<table border=\"1\" class=\"dataframe\">\n",
       "  <thead>\n",
       "    <tr style=\"text-align: right;\">\n",
       "      <th></th>\n",
       "      <th>modifier</th>\n",
       "      <th>head</th>\n",
       "      <th>context</th>\n",
       "      <th>year</th>\n",
       "      <th>count</th>\n",
       "    </tr>\n",
       "  </thead>\n",
       "  <tbody>\n",
       "    <tr>\n",
       "      <th>0</th>\n",
       "      <td>'_noun</td>\n",
       "      <td>'_noun</td>\n",
       "      <td>allegro_noun</td>\n",
       "      <td>1806</td>\n",
       "      <td>1.0</td>\n",
       "    </tr>\n",
       "    <tr>\n",
       "      <th>1</th>\n",
       "      <td>'_noun</td>\n",
       "      <td>'_noun</td>\n",
       "      <td>allegro_noun</td>\n",
       "      <td>1856</td>\n",
       "      <td>2.0</td>\n",
       "    </tr>\n",
       "    <tr>\n",
       "      <th>2</th>\n",
       "      <td>'_noun</td>\n",
       "      <td>'_noun</td>\n",
       "      <td>allegro_noun</td>\n",
       "      <td>1893</td>\n",
       "      <td>1.0</td>\n",
       "    </tr>\n",
       "    <tr>\n",
       "      <th>3</th>\n",
       "      <td>'_noun</td>\n",
       "      <td>'_noun</td>\n",
       "      <td>allegro_noun</td>\n",
       "      <td>1896</td>\n",
       "      <td>1.0</td>\n",
       "    </tr>\n",
       "    <tr>\n",
       "      <th>4</th>\n",
       "      <td>'_noun</td>\n",
       "      <td>'_noun</td>\n",
       "      <td>allegro_noun</td>\n",
       "      <td>1897</td>\n",
       "      <td>2.0</td>\n",
       "    </tr>\n",
       "  </tbody>\n",
       "</table>\n",
       "</div>"
      ],
      "text/plain": [
       "  modifier    head       context  year  count\n",
       "0   '_noun  '_noun  allegro_noun  1806    1.0\n",
       "1   '_noun  '_noun  allegro_noun  1856    2.0\n",
       "2   '_noun  '_noun  allegro_noun  1893    1.0\n",
       "3   '_noun  '_noun  allegro_noun  1896    1.0\n",
       "4   '_noun  '_noun  allegro_noun  1897    2.0"
      ]
     },
     "execution_count": 4,
     "metadata": {},
     "output_type": "execute_result"
    }
   ],
   "source": [
    "phrases_reduced=pd.read_csv('/data/dharp/compounding/datasets/phrases_tmp.csv',sep='\\t')\n",
    "phrases_reduced.info()\n",
    "phrases_reduced.head()"
   ]
  },
  {
   "cell_type": "code",
   "execution_count": 5,
   "metadata": {},
   "outputs": [
    {
     "name": "stdout",
     "output_type": "stream",
     "text": [
      "<class 'pandas.core.frame.DataFrame'>\n",
      "RangeIndex: 468452685 entries, 0 to 468452684\n",
      "Data columns (total 5 columns):\n",
      "modifier    object\n",
      "head        object\n",
      "context     object\n",
      "year        int64\n",
      "count       float64\n",
      "dtypes: float64(1), int64(1), object(3)\n",
      "memory usage: 17.5+ GB\n"
     ]
    },
    {
     "data": {
      "text/html": [
       "<div>\n",
       "<style scoped>\n",
       "    .dataframe tbody tr th:only-of-type {\n",
       "        vertical-align: middle;\n",
       "    }\n",
       "\n",
       "    .dataframe tbody tr th {\n",
       "        vertical-align: top;\n",
       "    }\n",
       "\n",
       "    .dataframe thead th {\n",
       "        text-align: right;\n",
       "    }\n",
       "</style>\n",
       "<table border=\"1\" class=\"dataframe\">\n",
       "  <thead>\n",
       "    <tr style=\"text-align: right;\">\n",
       "      <th></th>\n",
       "      <th>modifier</th>\n",
       "      <th>head</th>\n",
       "      <th>context</th>\n",
       "      <th>year</th>\n",
       "      <th>count</th>\n",
       "    </tr>\n",
       "  </thead>\n",
       "  <tbody>\n",
       "    <tr>\n",
       "      <th>0</th>\n",
       "      <td>'_noun</td>\n",
       "      <td>'_noun</td>\n",
       "      <td>be_verb</td>\n",
       "      <td>1863</td>\n",
       "      <td>1.0</td>\n",
       "    </tr>\n",
       "    <tr>\n",
       "      <th>1</th>\n",
       "      <td>'_noun</td>\n",
       "      <td>'_noun</td>\n",
       "      <td>be_verb</td>\n",
       "      <td>1870</td>\n",
       "      <td>1.0</td>\n",
       "    </tr>\n",
       "    <tr>\n",
       "      <th>2</th>\n",
       "      <td>'_noun</td>\n",
       "      <td>'_noun</td>\n",
       "      <td>be_verb</td>\n",
       "      <td>1871</td>\n",
       "      <td>2.0</td>\n",
       "    </tr>\n",
       "    <tr>\n",
       "      <th>3</th>\n",
       "      <td>'_noun</td>\n",
       "      <td>'_noun</td>\n",
       "      <td>be_verb</td>\n",
       "      <td>1873</td>\n",
       "      <td>4.0</td>\n",
       "    </tr>\n",
       "    <tr>\n",
       "      <th>4</th>\n",
       "      <td>'_noun</td>\n",
       "      <td>'_noun</td>\n",
       "      <td>be_verb</td>\n",
       "      <td>1875</td>\n",
       "      <td>2.0</td>\n",
       "    </tr>\n",
       "  </tbody>\n",
       "</table>\n",
       "</div>"
      ],
      "text/plain": [
       "  modifier    head  context  year  count\n",
       "0   '_noun  '_noun  be_verb  1863    1.0\n",
       "1   '_noun  '_noun  be_verb  1870    1.0\n",
       "2   '_noun  '_noun  be_verb  1871    2.0\n",
       "3   '_noun  '_noun  be_verb  1873    4.0\n",
       "4   '_noun  '_noun  be_verb  1875    2.0"
      ]
     },
     "execution_count": 5,
     "metadata": {},
     "output_type": "execute_result"
    }
   ],
   "source": [
    "phrases_complete=pd.concat([phrases,phrases_reduced],ignore_index=True,sort=False)\n",
    "phrases_complete.info()\n",
    "phrases_complete.head()"
   ]
  },
  {
   "cell_type": "code",
   "execution_count": 6,
   "metadata": {},
   "outputs": [
    {
     "name": "stdout",
     "output_type": "stream",
     "text": [
      "Change in Modifier shape -36.61\n",
      "<class 'pandas.core.frame.DataFrame'>\n",
      "MultiIndex: 296956745 entries, ('_noun, '_noun, '_noun, 1865) to (zzzz_noun, best_noun, security_noun, 2008)\n",
      "Data columns (total 1 columns):\n",
      "count    float64\n",
      "dtypes: float64(1)\n",
      "memory usage: 6.1+ GB\n"
     ]
    },
    {
     "data": {
      "text/html": [
       "<div>\n",
       "<style scoped>\n",
       "    .dataframe tbody tr th:only-of-type {\n",
       "        vertical-align: middle;\n",
       "    }\n",
       "\n",
       "    .dataframe tbody tr th {\n",
       "        vertical-align: top;\n",
       "    }\n",
       "\n",
       "    .dataframe thead th {\n",
       "        text-align: right;\n",
       "    }\n",
       "</style>\n",
       "<table border=\"1\" class=\"dataframe\">\n",
       "  <thead>\n",
       "    <tr style=\"text-align: right;\">\n",
       "      <th></th>\n",
       "      <th></th>\n",
       "      <th></th>\n",
       "      <th></th>\n",
       "      <th>count</th>\n",
       "    </tr>\n",
       "    <tr>\n",
       "      <th>modifier</th>\n",
       "      <th>head</th>\n",
       "      <th>context</th>\n",
       "      <th>year</th>\n",
       "      <th></th>\n",
       "    </tr>\n",
       "  </thead>\n",
       "  <tbody>\n",
       "    <tr>\n",
       "      <th rowspan=\"5\" valign=\"top\">'_noun</th>\n",
       "      <th rowspan=\"5\" valign=\"top\">'_noun</th>\n",
       "      <th rowspan=\"5\" valign=\"top\">'_noun</th>\n",
       "      <th>1865</th>\n",
       "      <td>3.0</td>\n",
       "    </tr>\n",
       "    <tr>\n",
       "      <th>1868</th>\n",
       "      <td>1.0</td>\n",
       "    </tr>\n",
       "    <tr>\n",
       "      <th>1871</th>\n",
       "      <td>1.0</td>\n",
       "    </tr>\n",
       "    <tr>\n",
       "      <th>1873</th>\n",
       "      <td>1.0</td>\n",
       "    </tr>\n",
       "    <tr>\n",
       "      <th>1874</th>\n",
       "      <td>1.0</td>\n",
       "    </tr>\n",
       "  </tbody>\n",
       "</table>\n",
       "</div>"
      ],
      "text/plain": [
       "                              count\n",
       "modifier head   context year       \n",
       "'_noun   '_noun '_noun  1865    3.0\n",
       "                        1868    1.0\n",
       "                        1871    1.0\n",
       "                        1873    1.0\n",
       "                        1874    1.0"
      ]
     },
     "execution_count": 6,
     "metadata": {},
     "output_type": "execute_result"
    }
   ],
   "source": [
    "old_shape=phrases_complete.shape[0]\n",
    "phrases_complete=phrases_complete.groupby(['modifier','head','context','year'])['count'].sum().to_frame()\n",
    "new_shape=phrases_complete.shape[0]\n",
    "print(f'Change in Modifier shape {(new_shape-old_shape)/old_shape*100:.2f}')\n",
    "phrases_complete.info()\n",
    "phrases_complete.head()"
   ]
  },
  {
   "cell_type": "markdown",
   "metadata": {},
   "source": [
    "# Saving files"
   ]
  },
  {
   "cell_type": "code",
   "execution_count": 20,
   "metadata": {},
   "outputs": [],
   "source": [
    "heads_complete.to_pickle('/data/dharp/compounding/datasets/heads.pkl')"
   ]
  },
  {
   "cell_type": "code",
   "execution_count": 21,
   "metadata": {},
   "outputs": [],
   "source": [
    "modifiers_complete.to_pickle('/data/dharp/compounding/datasets/modifiers.pkl')"
   ]
  },
  {
   "cell_type": "code",
   "execution_count": 22,
   "metadata": {},
   "outputs": [],
   "source": [
    "compounds_complete.to_pickle('/data/dharp/compounding/datasets/compounds.pkl')"
   ]
  },
  {
   "cell_type": "code",
   "execution_count": 7,
   "metadata": {},
   "outputs": [],
   "source": [
    "phrases_complete.to_pickle('/data/dharp/compounding/datasets/phrases.pkl')"
   ]
  },
  {
   "cell_type": "markdown",
   "metadata": {},
   "source": [
    "## Reading in Words file"
   ]
  },
  {
   "cell_type": "code",
   "execution_count": 9,
   "metadata": {},
   "outputs": [
    {
     "data": {
      "text/plain": [
       "['/data/dharp/compounding/datasets/words_2.csv',\n",
       " '/data/dharp/compounding/datasets/words_7.csv',\n",
       " '/data/dharp/compounding/datasets/words_9.csv',\n",
       " '/data/dharp/compounding/datasets/words_0.csv',\n",
       " '/data/dharp/compounding/datasets/words_1.csv',\n",
       " '/data/dharp/compounding/datasets/words_3.csv',\n",
       " '/data/dharp/compounding/datasets/words_8.csv']"
      ]
     },
     "execution_count": 9,
     "metadata": {},
     "output_type": "execute_result"
    }
   ],
   "source": [
    "word_files_list=glob.glob('/data/dharp/compounding/datasets/words*.csv')\n",
    "word_files_list"
   ]
  },
  {
   "cell_type": "code",
   "execution_count": 10,
   "metadata": {},
   "outputs": [],
   "source": [
    "df_list=[]\n",
    "for f in word_files_list:\n",
    "    tmp_df=pd.read_csv(f,sep='\\t')\n",
    "    df_list.append(tmp_df)\n",
    "words=pd.concat(df_list,ignore_index=True,sort=False)\n"
   ]
  },
  {
   "cell_type": "code",
   "execution_count": 11,
   "metadata": {},
   "outputs": [
    {
     "name": "stdout",
     "output_type": "stream",
     "text": [
      "<class 'pandas.core.frame.DataFrame'>\n",
      "RangeIndex: 1841809321 entries, 0 to 1841809320\n",
      "Data columns (total 4 columns):\n",
      "word       object\n",
      "context    object\n",
      "year       int64\n",
      "count      int64\n",
      "dtypes: int64(2), object(2)\n",
      "memory usage: 54.9+ GB\n"
     ]
    },
    {
     "data": {
      "text/html": [
       "<div>\n",
       "<style scoped>\n",
       "    .dataframe tbody tr th:only-of-type {\n",
       "        vertical-align: middle;\n",
       "    }\n",
       "\n",
       "    .dataframe tbody tr th {\n",
       "        vertical-align: top;\n",
       "    }\n",
       "\n",
       "    .dataframe thead th {\n",
       "        text-align: right;\n",
       "    }\n",
       "</style>\n",
       "<table border=\"1\" class=\"dataframe\">\n",
       "  <thead>\n",
       "    <tr style=\"text-align: right;\">\n",
       "      <th></th>\n",
       "      <th>word</th>\n",
       "      <th>context</th>\n",
       "      <th>year</th>\n",
       "      <th>count</th>\n",
       "    </tr>\n",
       "  </thead>\n",
       "  <tbody>\n",
       "    <tr>\n",
       "      <th>0</th>\n",
       "      <td>a_noun</td>\n",
       "      <td>'_noun</td>\n",
       "      <td>1800</td>\n",
       "      <td>1</td>\n",
       "    </tr>\n",
       "    <tr>\n",
       "      <th>1</th>\n",
       "      <td>a_noun</td>\n",
       "      <td>'_noun</td>\n",
       "      <td>1816</td>\n",
       "      <td>6</td>\n",
       "    </tr>\n",
       "    <tr>\n",
       "      <th>2</th>\n",
       "      <td>a_noun</td>\n",
       "      <td>'_noun</td>\n",
       "      <td>1817</td>\n",
       "      <td>3</td>\n",
       "    </tr>\n",
       "    <tr>\n",
       "      <th>3</th>\n",
       "      <td>a_noun</td>\n",
       "      <td>'_noun</td>\n",
       "      <td>1819</td>\n",
       "      <td>2</td>\n",
       "    </tr>\n",
       "    <tr>\n",
       "      <th>4</th>\n",
       "      <td>a_noun</td>\n",
       "      <td>'_noun</td>\n",
       "      <td>1821</td>\n",
       "      <td>1</td>\n",
       "    </tr>\n",
       "  </tbody>\n",
       "</table>\n",
       "</div>"
      ],
      "text/plain": [
       "     word context  year  count\n",
       "0  a_noun  '_noun  1800      1\n",
       "1  a_noun  '_noun  1816      6\n",
       "2  a_noun  '_noun  1817      3\n",
       "3  a_noun  '_noun  1819      2\n",
       "4  a_noun  '_noun  1821      1"
      ]
     },
     "execution_count": 11,
     "metadata": {},
     "output_type": "execute_result"
    }
   ],
   "source": [
    "words.info()\n",
    "words.head()"
   ]
  },
  {
   "cell_type": "code",
   "execution_count": 13,
   "metadata": {},
   "outputs": [
    {
     "name": "stdout",
     "output_type": "stream",
     "text": [
      "<class 'pandas.core.frame.DataFrame'>\n",
      "RangeIndex: 507766612 entries, 0 to 507766611\n",
      "Data columns (total 4 columns):\n",
      "word       object\n",
      "context    object\n",
      "year       int64\n",
      "count      int64\n",
      "dtypes: int64(2), object(2)\n",
      "memory usage: 15.1+ GB\n"
     ]
    },
    {
     "data": {
      "text/html": [
       "<div>\n",
       "<style scoped>\n",
       "    .dataframe tbody tr th:only-of-type {\n",
       "        vertical-align: middle;\n",
       "    }\n",
       "\n",
       "    .dataframe tbody tr th {\n",
       "        vertical-align: top;\n",
       "    }\n",
       "\n",
       "    .dataframe thead th {\n",
       "        text-align: right;\n",
       "    }\n",
       "</style>\n",
       "<table border=\"1\" class=\"dataframe\">\n",
       "  <thead>\n",
       "    <tr style=\"text-align: right;\">\n",
       "      <th></th>\n",
       "      <th>word</th>\n",
       "      <th>context</th>\n",
       "      <th>year</th>\n",
       "      <th>count</th>\n",
       "    </tr>\n",
       "  </thead>\n",
       "  <tbody>\n",
       "    <tr>\n",
       "      <th>0</th>\n",
       "      <td>a_noun</td>\n",
       "      <td>'_adv</td>\n",
       "      <td>1890</td>\n",
       "      <td>3</td>\n",
       "    </tr>\n",
       "    <tr>\n",
       "      <th>1</th>\n",
       "      <td>a_noun</td>\n",
       "      <td>'_adv</td>\n",
       "      <td>1891</td>\n",
       "      <td>20</td>\n",
       "    </tr>\n",
       "    <tr>\n",
       "      <th>2</th>\n",
       "      <td>a_noun</td>\n",
       "      <td>'_adv</td>\n",
       "      <td>1892</td>\n",
       "      <td>8</td>\n",
       "    </tr>\n",
       "    <tr>\n",
       "      <th>3</th>\n",
       "      <td>a_noun</td>\n",
       "      <td>'_adv</td>\n",
       "      <td>1894</td>\n",
       "      <td>1</td>\n",
       "    </tr>\n",
       "    <tr>\n",
       "      <th>4</th>\n",
       "      <td>a_noun</td>\n",
       "      <td>'_adv</td>\n",
       "      <td>1895</td>\n",
       "      <td>2</td>\n",
       "    </tr>\n",
       "  </tbody>\n",
       "</table>\n",
       "</div>"
      ],
      "text/plain": [
       "     word context  year  count\n",
       "0  a_noun   '_adv  1890      3\n",
       "1  a_noun   '_adv  1891     20\n",
       "2  a_noun   '_adv  1892      8\n",
       "3  a_noun   '_adv  1894      1\n",
       "4  a_noun   '_adv  1895      2"
      ]
     },
     "execution_count": 13,
     "metadata": {},
     "output_type": "execute_result"
    }
   ],
   "source": [
    "words_reduced=pd.read_pickle('/data/dharp/compounding/datasets/words_4_5_6.pkl')\n",
    "words_reduced.reset_index(inplace=True)\n",
    "words_reduced.info()\n",
    "words_reduced.head()"
   ]
  },
  {
   "cell_type": "code",
   "execution_count": 14,
   "metadata": {},
   "outputs": [
    {
     "name": "stdout",
     "output_type": "stream",
     "text": [
      "<class 'pandas.core.frame.DataFrame'>\n",
      "RangeIndex: 2349575933 entries, 0 to 2349575932\n",
      "Data columns (total 4 columns):\n",
      "word       object\n",
      "context    object\n",
      "year       int64\n",
      "count      int64\n",
      "dtypes: int64(2), object(2)\n",
      "memory usage: 70.0+ GB\n"
     ]
    },
    {
     "data": {
      "text/html": [
       "<div>\n",
       "<style scoped>\n",
       "    .dataframe tbody tr th:only-of-type {\n",
       "        vertical-align: middle;\n",
       "    }\n",
       "\n",
       "    .dataframe tbody tr th {\n",
       "        vertical-align: top;\n",
       "    }\n",
       "\n",
       "    .dataframe thead th {\n",
       "        text-align: right;\n",
       "    }\n",
       "</style>\n",
       "<table border=\"1\" class=\"dataframe\">\n",
       "  <thead>\n",
       "    <tr style=\"text-align: right;\">\n",
       "      <th></th>\n",
       "      <th>word</th>\n",
       "      <th>context</th>\n",
       "      <th>year</th>\n",
       "      <th>count</th>\n",
       "    </tr>\n",
       "  </thead>\n",
       "  <tbody>\n",
       "    <tr>\n",
       "      <th>0</th>\n",
       "      <td>a_noun</td>\n",
       "      <td>'_noun</td>\n",
       "      <td>1800</td>\n",
       "      <td>1</td>\n",
       "    </tr>\n",
       "    <tr>\n",
       "      <th>1</th>\n",
       "      <td>a_noun</td>\n",
       "      <td>'_noun</td>\n",
       "      <td>1816</td>\n",
       "      <td>6</td>\n",
       "    </tr>\n",
       "    <tr>\n",
       "      <th>2</th>\n",
       "      <td>a_noun</td>\n",
       "      <td>'_noun</td>\n",
       "      <td>1817</td>\n",
       "      <td>3</td>\n",
       "    </tr>\n",
       "    <tr>\n",
       "      <th>3</th>\n",
       "      <td>a_noun</td>\n",
       "      <td>'_noun</td>\n",
       "      <td>1819</td>\n",
       "      <td>2</td>\n",
       "    </tr>\n",
       "    <tr>\n",
       "      <th>4</th>\n",
       "      <td>a_noun</td>\n",
       "      <td>'_noun</td>\n",
       "      <td>1821</td>\n",
       "      <td>1</td>\n",
       "    </tr>\n",
       "  </tbody>\n",
       "</table>\n",
       "</div>"
      ],
      "text/plain": [
       "     word context  year  count\n",
       "0  a_noun  '_noun  1800      1\n",
       "1  a_noun  '_noun  1816      6\n",
       "2  a_noun  '_noun  1817      3\n",
       "3  a_noun  '_noun  1819      2\n",
       "4  a_noun  '_noun  1821      1"
      ]
     },
     "execution_count": 14,
     "metadata": {},
     "output_type": "execute_result"
    }
   ],
   "source": [
    "words_complete=pd.concat([words,words_reduced],ignore_index=True,sort=False)\n",
    "words_complete.info()\n",
    "words_complete.head()"
   ]
  },
  {
   "cell_type": "code",
   "execution_count": 15,
   "metadata": {},
   "outputs": [
    {
     "name": "stdout",
     "output_type": "stream",
     "text": [
      "Change in Words shape -53.79\n",
      "<class 'pandas.core.frame.DataFrame'>\n",
      "MultiIndex: 1085627595 entries, (a_noun, '_adv, 1791) to (zzzz_noun, security_noun, 2008)\n",
      "Data columns (total 1 columns):\n",
      "count    int64\n",
      "dtypes: int64(1)\n",
      "memory usage: 18.2+ GB\n"
     ]
    },
    {
     "data": {
      "text/html": [
       "<div>\n",
       "<style scoped>\n",
       "    .dataframe tbody tr th:only-of-type {\n",
       "        vertical-align: middle;\n",
       "    }\n",
       "\n",
       "    .dataframe tbody tr th {\n",
       "        vertical-align: top;\n",
       "    }\n",
       "\n",
       "    .dataframe thead th {\n",
       "        text-align: right;\n",
       "    }\n",
       "</style>\n",
       "<table border=\"1\" class=\"dataframe\">\n",
       "  <thead>\n",
       "    <tr style=\"text-align: right;\">\n",
       "      <th></th>\n",
       "      <th></th>\n",
       "      <th></th>\n",
       "      <th>count</th>\n",
       "    </tr>\n",
       "    <tr>\n",
       "      <th>word</th>\n",
       "      <th>context</th>\n",
       "      <th>year</th>\n",
       "      <th></th>\n",
       "    </tr>\n",
       "  </thead>\n",
       "  <tbody>\n",
       "    <tr>\n",
       "      <th rowspan=\"5\" valign=\"top\">a_noun</th>\n",
       "      <th rowspan=\"5\" valign=\"top\">'_adv</th>\n",
       "      <th>1791</th>\n",
       "      <td>4</td>\n",
       "    </tr>\n",
       "    <tr>\n",
       "      <th>1799</th>\n",
       "      <td>1</td>\n",
       "    </tr>\n",
       "    <tr>\n",
       "      <th>1807</th>\n",
       "      <td>1</td>\n",
       "    </tr>\n",
       "    <tr>\n",
       "      <th>1820</th>\n",
       "      <td>1</td>\n",
       "    </tr>\n",
       "    <tr>\n",
       "      <th>1821</th>\n",
       "      <td>1</td>\n",
       "    </tr>\n",
       "  </tbody>\n",
       "</table>\n",
       "</div>"
      ],
      "text/plain": [
       "                     count\n",
       "word   context year       \n",
       "a_noun '_adv   1791      4\n",
       "               1799      1\n",
       "               1807      1\n",
       "               1820      1\n",
       "               1821      1"
      ]
     },
     "execution_count": 15,
     "metadata": {},
     "output_type": "execute_result"
    }
   ],
   "source": [
    "old_shape=words_complete.shape[0]\n",
    "words_complete=words_complete.groupby(['word','context','year'])['count'].sum().to_frame()\n",
    "new_shape=words_complete.shape[0]\n",
    "print(f'Change in Words shape {(new_shape-old_shape)/old_shape*100:.2f}')\n",
    "words_complete.info()\n",
    "words_complete.head()"
   ]
  },
  {
   "cell_type": "code",
   "execution_count": 16,
   "metadata": {},
   "outputs": [],
   "source": [
    "words_complete.to_pickle('/data/dharp/compounding/datasets/words.pkl')"
   ]
  },
  {
   "cell_type": "code",
   "execution_count": null,
   "metadata": {},
   "outputs": [],
   "source": []
  }
 ],
 "metadata": {
  "kernelspec": {
   "display_name": "Python 3",
   "language": "python",
   "name": "python3"
  },
  "language_info": {
   "codemirror_mode": {
    "name": "ipython",
    "version": 3
   },
   "file_extension": ".py",
   "mimetype": "text/x-python",
   "name": "python",
   "nbconvert_exporter": "python",
   "pygments_lexer": "ipython3",
   "version": "3.6.8"
  }
 },
 "nbformat": 4,
 "nbformat_minor": 2
}
